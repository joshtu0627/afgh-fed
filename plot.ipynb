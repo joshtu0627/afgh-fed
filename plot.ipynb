{
 "cells": [
  {
   "cell_type": "code",
   "execution_count": 1,
   "metadata": {},
   "outputs": [
    {
     "name": "stdout",
     "output_type": "stream",
     "text": [
      "/home/jerry/Ubuntu_Jerry/afgh-pre-relic-master\n"
     ]
    }
   ],
   "source": [
    "import os\n",
    "import sys\n",
    "import csv\n",
    "import numpy as np\n",
    "import matplotlib.pyplot as plt\n",
    "import matplotlib\n",
    "matplotlib.use('TkAgg')\n",
    "\n",
    "print(os.getcwd())"
   ]
  },
  {
   "cell_type": "code",
   "execution_count": 18,
   "metadata": {},
   "outputs": [
    {
     "name": "stdout",
     "output_type": "stream",
     "text": [
      "[0, 0, 0, 59, 70, 74, 100, 100, 100]\n"
     ]
    }
   ],
   "source": [
    "accuracy_bias = []\n",
    "\n",
    "for epsilon in range(-2, 7):\n",
    "    origin_file = open('./Experiment/bias/origin_ep'+str(epsilon)+'.txt')\n",
    "    reverse_file = open('./Experiment/bias/reverse_ep'+str(epsilon)+'.txt')\n",
    "\n",
    "    reader = csv.reader(origin_file, delimiter=' ')\n",
    "    origin = next(reader)\n",
    "    origin.pop() # erase the last '' element\n",
    " \n",
    "    reader = csv.reader(reverse_file, delimiter=' ')\n",
    "    reverse = next(reader)\n",
    "    reverse.pop()\n",
    "\n",
    "    for i in range(len(origin)):\n",
    "        origin[i] = float(origin[i])\n",
    "    for i in range(len(reverse)):\n",
    "        reverse[i] = float(reverse[i])\n",
    "\n",
    "    correct = 0\n",
    "    for i in range(len(origin)):\n",
    "        if origin[i] == reverse[i]:\n",
    "            correct += 1\n",
    "\n",
    "    accuracy_bias.append(round(correct / len(origin) * 100))\n",
    "\n",
    "print(accuracy_bias)"
   ]
  },
  {
   "cell_type": "code",
   "execution_count": 21,
   "metadata": {},
   "outputs": [
    {
     "name": "stdout",
     "output_type": "stream",
     "text": [
      "[0, 0, 0, 0, 1, 11, 53, 97, 100, 100, 100]\n"
     ]
    }
   ],
   "source": [
    "accuracy_weight = []\n",
    "\n",
    "for epsilon in range(-2, 9):\n",
    "    origin_file = open('./Experiment/weight&bias/origin_ep'+str(epsilon)+'.txt')\n",
    "    reverse_file = open('./Experiment/weight&bias/reverse_ep'+str(epsilon)+'.txt')\n",
    "\n",
    "    reader = csv.reader(origin_file, delimiter=' ')\n",
    "    origin = next(reader)\n",
    "    origin.pop() # erase the last '' element\n",
    " \n",
    "    reader = csv.reader(reverse_file, delimiter=' ')\n",
    "    reverse = next(reader)\n",
    "    reverse.pop()\n",
    "\n",
    "    for i in range(len(origin)):\n",
    "        origin[i] = float(origin[i])\n",
    "    for i in range(len(reverse)):\n",
    "        reverse[i] = float(reverse[i])\n",
    "\n",
    "    correct = 0\n",
    "    for i in range(len(origin)):\n",
    "        if origin[i] == reverse[i]:\n",
    "            correct += 1\n",
    "\n",
    "    accuracy_weight.append(round(correct / len(origin) * 100))\n",
    "\n",
    "print(accuracy_weight)"
   ]
  },
  {
   "cell_type": "code",
   "execution_count": 11,
   "metadata": {},
   "outputs": [],
   "source": [
    "dataset = 'diabetes'\n"
   ]
  },
  {
   "cell_type": "code",
   "execution_count": 12,
   "metadata": {},
   "outputs": [
    {
     "name": "stdout",
     "output_type": "stream",
     "text": [
      "[0, 0, 0, 0, 0, 1, 6, 15, 76, 98, 99, 100]\n"
     ]
    }
   ],
   "source": [
    "accuracy_yellow = []\n",
    "\n",
    "for eps in range(0, 12):\n",
    "    epsilon = pow(10, eps)\n",
    "    origin = []\n",
    "    reverse = []\n",
    "\n",
    "    origin_file = open('./Dataset/'+dataset+'/Row1/'+dataset+'_epsilon-'+str(eps)+'_origin.txt')\n",
    "    reverse_file = open('./Dataset/'+dataset+'/Row1/'+dataset+'_epsilon-'+str(eps)+'_reverse.txt')\n",
    "\n",
    "    reader = csv.reader(origin_file, delimiter=' ')\n",
    "    origin = next(reader)\n",
    "    origin.pop() # erase the last '' element\n",
    "\n",
    "    reader = csv.reader(reverse_file, delimiter=' ')\n",
    "    reverse = next(reader)\n",
    "    reverse.pop()\n",
    "\n",
    "    for i in range(len(origin)):\n",
    "        origin[i] = float(origin[i])\n",
    "    for i in range(len(reverse)):\n",
    "        reverse[i] = float(reverse[i])\n",
    "\n",
    "    correct = 0\n",
    "    for i in range(len(origin)):\n",
    "        if origin[i] == reverse[i]:\n",
    "            correct += 1\n",
    "\n",
    "    accuracy_yellow.append(round(correct / len(origin) * 100))\n",
    "    origin_file.close()\n",
    "    reverse_file.close()\n",
    "print(accuracy_yellow)\n"
   ]
  },
  {
   "cell_type": "code",
   "execution_count": 13,
   "metadata": {},
   "outputs": [
    {
     "name": "stdout",
     "output_type": "stream",
     "text": [
      "[57, 84, 98, 99, 100, 99, 100, 100, 100, 100, 100, 100]\n"
     ]
    }
   ],
   "source": [
    "# epsilon -3 ~ 11\n",
    "accuracy_blue = []\n",
    "\n",
    "origin = []\n",
    "perturb = []\n",
    "\n",
    "origin_file = open('./Dataset/'+dataset+'/Row1/'+dataset+'_origin_accuracy.txt')\n",
    "noises_file = open('./Dataset/'+dataset+'/Row1/'+dataset+'_noises_accuracy.txt')\n",
    "\n",
    "origin_acc = origin_file.readline()\n",
    "origin_acc = origin_acc[:-1]\n",
    "\n",
    "line = noises_file.readline()[:-1]\n",
    "while line != '':\n",
    "    a = float(line)\n",
    "    b = float(origin_acc)\n",
    "    if a > b:\n",
    "        a = b\n",
    "    perturb.append(a)\n",
    "    origin.append(b)\n",
    "    line = noises_file.readline()[:-1]\n",
    "\n",
    "for i in range(0, 12):\n",
    "    accuracy_blue.append(round(100 - abs(perturb[i+3] - origin[i+3])))\n",
    "\n",
    "origin_file.close()\n",
    "noises_file.close()\n",
    "\n",
    "print(accuracy_blue)"
   ]
  },
  {
   "cell_type": "code",
   "execution_count": 14,
   "metadata": {},
   "outputs": [
    {
     "name": "stdout",
     "output_type": "stream",
     "text": [
      "[0, 0, 0, 0, 0, 1, 6, 15, 76, 98, 99, 100]\n"
     ]
    }
   ],
   "source": [
    "accuracy_yellow = []\n",
    "\n",
    "for eps in range(0, 12):\n",
    "    epsilon = pow(10, eps)\n",
    "    origin = []\n",
    "    reverse = []\n",
    "\n",
    "    origin_file = open('./Dataset/'+dataset+'/Row2/Round4/'+dataset+'_epsilon-'+str(eps)+'_origin.txt')\n",
    "    reverse_file = open('./Dataset/'+dataset+'/Row2/Round4/'+dataset+'_epsilon-'+str(eps)+'_reverse.txt')\n",
    "\n",
    "    reader = csv.reader(origin_file, delimiter=' ')\n",
    "    origin = next(reader)\n",
    "    origin.pop() # erase the last '' element\n",
    "\n",
    "    reader = csv.reader(reverse_file, delimiter=' ')\n",
    "    reverse = next(reader)\n",
    "    reverse.pop()\n",
    "\n",
    "    for i in range(len(origin)):\n",
    "        origin[i] = float(origin[i])\n",
    "    for i in range(len(reverse)):\n",
    "        reverse[i] = float(reverse[i])\n",
    "\n",
    "    correct = 0\n",
    "    for i in range(len(origin)):\n",
    "        if origin[i] == reverse[i]:\n",
    "            correct += 1\n",
    "\n",
    "    accuracy_yellow.append(round(correct / len(origin) * 100))\n",
    "    origin_file.close()\n",
    "    reverse_file.close()\n",
    "print(accuracy_yellow)"
   ]
  },
  {
   "cell_type": "code",
   "execution_count": 15,
   "metadata": {},
   "outputs": [
    {
     "name": "stdout",
     "output_type": "stream",
     "text": [
      "[0, 0, 0, 1, 2, 22, 40, 82, 100, 99, 100, 100]\n"
     ]
    }
   ],
   "source": [
    "accuracy_green = []\n",
    "\n",
    "for eps in range(0, 12):\n",
    "    epsilon = pow(10, eps)\n",
    "    origin = []\n",
    "    reverse = []\n",
    "\n",
    "    origin_file = open('./Dataset/'+dataset+'/Row2/Round3/'+dataset+'_epsilon-'+str(eps)+'_origin.txt')\n",
    "    reverse_file = open('./Dataset/'+dataset+'/Row2/Round3/'+dataset+'_epsilon-'+str(eps)+'_reverse.txt')\n",
    "\n",
    "    reader = csv.reader(origin_file, delimiter=' ')\n",
    "    origin = next(reader)\n",
    "    origin.pop() # erase the last '' element\n",
    "\n",
    "    reader = csv.reader(reverse_file, delimiter=' ')\n",
    "    reverse = next(reader)\n",
    "    reverse.pop()\n",
    "\n",
    "    for i in range(len(origin)):\n",
    "        origin[i] = float(origin[i])\n",
    "    for i in range(len(reverse)):\n",
    "        reverse[i] = float(reverse[i])\n",
    "\n",
    "    correct = 0\n",
    "    for i in range(len(origin)):\n",
    "        if origin[i] == reverse[i]:\n",
    "            correct += 1\n",
    "\n",
    "    accuracy_green.append(round(correct / len(origin) * 100))\n",
    "    origin_file.close()\n",
    "    reverse_file.close()\n",
    "print(accuracy_green)"
   ]
  },
  {
   "cell_type": "code",
   "execution_count": 16,
   "metadata": {},
   "outputs": [
    {
     "name": "stdout",
     "output_type": "stream",
     "text": [
      "[0, 1, 0, 3, 28, 87, 100, 100, 100, 100, 100, 100]\n"
     ]
    }
   ],
   "source": [
    "accuracy_purple = []\n",
    "\n",
    "for eps in range(0, 12):\n",
    "    epsilon = pow(10, eps)\n",
    "    origin = []\n",
    "    reverse = []\n",
    "\n",
    "    origin_file = open('./Dataset/'+dataset+'/Row2/Round2/'+dataset+'_epsilon-'+str(eps)+'_origin.txt')\n",
    "    reverse_file = open('./Dataset/'+dataset+'/Row2/Round2/'+dataset+'_epsilon-'+str(eps)+'_reverse.txt')\n",
    "\n",
    "    reader = csv.reader(origin_file, delimiter=' ')\n",
    "    origin = next(reader)\n",
    "    origin.pop() # erase the last '' element\n",
    "\n",
    "    reader = csv.reader(reverse_file, delimiter=' ')\n",
    "    reverse = next(reader)\n",
    "    reverse.pop()\n",
    "\n",
    "    for i in range(len(origin)):\n",
    "        origin[i] = float(origin[i])\n",
    "    for i in range(len(reverse)):\n",
    "        reverse[i] = float(reverse[i])\n",
    "\n",
    "    correct = 0\n",
    "    for i in range(len(origin)):\n",
    "        if origin[i] == reverse[i]:\n",
    "            correct += 1\n",
    "\n",
    "    accuracy_purple.append(round(correct / len(origin) * 100))\n",
    "    origin_file.close()\n",
    "    reverse_file.close()\n",
    "print(accuracy_purple)"
   ]
  },
  {
   "cell_type": "code",
   "execution_count": 288,
   "metadata": {},
   "outputs": [],
   "source": [
    "# yellow_x = [i for i in range(0, 12)]\n",
    "# yellow_y = [i for i in accuracy_yellow]\n",
    "# blue_x = [i for i in range(0, 12)]\n",
    "# blue_y = [i for i in accuracy_blue]\n",
    "\n",
    "# plt.figure(figsize=(10,5))\n",
    "# plt.plot(yellow_x, yellow_y, label = 'Gradient Reverse', linestyle = '-.', linewidth = 5, color = 'orange')\n",
    "# plt.plot(blue_x, blue_y, label = 'Accuracy (Different from the original)', linestyle = '--', linewidth = 5, color = 'blue')\n",
    "# plt.title('Effect of Noise on Accuracy and Gradient Reverse')\n",
    "# plt.xlabel(\"log(ϵ)\")\n",
    "# plt.ylim([0, 100])\n",
    "# plt.xlim([0, 11])\n",
    "# plt.grid() # 背景格子\n",
    "# plt.xticks(np.arange(0, 12)) # 顯示所有x軸值\n",
    "# plt.gca().yaxis.set_major_formatter(matplotlib.ticker.FormatStrFormatter('%.0f%%')) # 顯示y軸％\n",
    "# plt.legend(loc = 'lower right') # 圖例\n",
    "# plt.show()"
   ]
  },
  {
   "cell_type": "code",
   "execution_count": 289,
   "metadata": {},
   "outputs": [],
   "source": [
    "# yellow_x = [i for i in range(0, 12)]\n",
    "# yellow_y = [i for i in accuracy_yellow]\n",
    "# green_x = [i for i in range(0, 12)]\n",
    "# green_y = [i for i in accuracy_green]\n",
    "# purple_x = [i for i in range(0, 12)]\n",
    "# purple_y = [i for i in accuracy_purple]\n",
    "\n",
    "# plt.figure(figsize=(10,5))\n",
    "# plt.plot(purple_x, purple_y, label = 'Reserved 2', linestyle = ':', linewidth = 5, color = 'purple')\n",
    "# plt.plot(green_x, green_y, label = 'Reserved 3', linestyle = '--', linewidth = 5, color = 'green')\n",
    "# plt.plot(yellow_x, yellow_y, label = 'Reserved 4', linestyle = '-.', linewidth = 5, color = 'orange')\n",
    "\n",
    "# plt.title('Effect of # Decimal Places Reserved (Noise) on Gradient Reverse')\n",
    "# plt.xlabel(\"log(ϵ)\")\n",
    "# plt.ylim([0, 100])\n",
    "# plt.xlim([0, 11])\n",
    "# plt.grid() # 背景格子\n",
    "# plt.xticks(np.arange(0, 12)) # 顯示所有x軸值\n",
    "# plt.gca().yaxis.set_major_formatter(matplotlib.ticker.FormatStrFormatter('%.0f%%')) # 顯示y軸％\n",
    "# plt.legend(loc = 'lower right') # 圖例\n",
    "# plt.show()"
   ]
  },
  {
   "cell_type": "code",
   "execution_count": 290,
   "metadata": {},
   "outputs": [],
   "source": [
    "yellow_x = [i for i in range(0, 12)]\n",
    "yellow_y = [100 for i in range(0, 12)]\n",
    "blue_x = [i for i in range(0, 12)]\n",
    "blue_y = [i for i in accuracy_blue]\n",
    "\n",
    "plt.figure(figsize=(10,5))\n",
    "plt.plot(yellow_x, yellow_y, label = 'Accuracy under Hybrid (AFGH)', linestyle = '-.', linewidth = 5, color = 'orange')\n",
    "plt.plot(blue_x, blue_y, label = 'Accuracy under only MVG', linestyle = '--', linewidth = 5, color = 'blue')\n",
    "plt.title('Accuracy under only MVG and under Hybrid (AFGH)')\n",
    "plt.xlabel(\"log(ϵ)\")\n",
    "plt.ylim([60, 100])\n",
    "plt.xlim([0, 11])\n",
    "plt.grid() # 背景格子\n",
    "plt.xticks(np.arange(0, 12)) # 顯示所有x軸值\n",
    "plt.yticks(np.arange(60, 101, 10))\n",
    "plt.gca().yaxis.set_major_formatter(matplotlib.ticker.FormatStrFormatter('%.0f%%')) # 顯示y軸％\n",
    "plt.legend(loc = 'lower right') # 圖例\n",
    "plt.show()"
   ]
  }
 ],
 "metadata": {
  "kernelspec": {
   "display_name": "Python 3",
   "language": "python",
   "name": "python3"
  },
  "language_info": {
   "codemirror_mode": {
    "name": "ipython",
    "version": 3
   },
   "file_extension": ".py",
   "mimetype": "text/x-python",
   "name": "python",
   "nbconvert_exporter": "python",
   "pygments_lexer": "ipython3",
   "version": "3.10.12"
  },
  "orig_nbformat": 4
 },
 "nbformat": 4,
 "nbformat_minor": 2
}
